{
 "cells": [
  {
   "cell_type": "code",
   "execution_count": null,
   "id": "72dad62e",
   "metadata": {},
   "outputs": [],
   "source": [
    "'''\n",
    "1) Structured Programming Paradigm:\n",
    "    A top down approach to a proggraming language or visa versa **the code is executed from the top one by one\n",
    "    things like if-else , while , for which allow a recursive approach to the code was put into this paradgim\n",
    "Structured Theorm:\n",
    "    bohm jacopini theorm\n",
    "    The basic structures: \n",
    "        -> Sequence - top to bottom  \n",
    "        -> Decision - if else\n",
    "        -> Loop - for while\n",
    "Advantages:\n",
    "Disadvantages:\n",
    "\n",
    "Intro to Python:\n",
    "    Python is a popular proraming language\n",
    "    created by Guildo\n",
    "    uses : Web dev,swd,mathematics,system scraping, etc\n",
    "syntax:\n",
    "print(\"hello\") => hello\n",
    "comments:\n",
    "use # =>  '#This is a comment'\n",
    "creating var:\n",
    "python has no command for declaring a var\n",
    "a var is created the moment you first assign a val to it\n",
    "eg: \n",
    "    X=5\n",
    "    print(X) => 5\n",
    "var can store data in diffrent types\n",
    "default data types:\n",
    "    text: str\n",
    "    num: int, float, complex\n",
    "    seq: list, tuple, range\n",
    "    Mapping: dict\n",
    "    set: set froze set\n",
    "    bool: bool\n",
    "    Bin type: bytes, memory view\n",
    "    eg:\n",
    "        x = str('hello')\n",
    "        print(x) => hello\n",
    "if-else:\n",
    "    python support usual logical condition:\n",
    "        equal: a = b\n",
    "        !equal: a!=b\n",
    "        less than: a<b\n",
    "        less than or equal to : a<=b\n",
    "        Greater than: a>b\n",
    "        Greater than or equal to : a>=b\n",
    "    eg:\n",
    "    a = 200\n",
    "    b = 33\n",
    "    if a>b:\n",
    "        print(\"b is less than a\")\n",
    "    elif a==b:\n",
    "        print(\"b is equal than a\")\n",
    "    else:\n",
    "        print(\"b is greater than a\")\n",
    "Indentation:\n",
    "    Python works on indentation(white space at the begining of a line ) to define scope in the code like {} used in C\n",
    "    & C++\n",
    "    IndentationError: expected an indented block\n",
    "    \n",
    "Python func:\n",
    "    Function is a block of code which only runs when it called\n",
    "    we can reuse the code \n",
    "    you can pass data as parameters into a func \n",
    "    a func can return a data as a result\n",
    "Creating a func:\n",
    "    it is defined using keyword def\n",
    "    eg:\n",
    "        def my_func():\n",
    "            print(\"hello from func\")\n",
    "    Calling a function:\n",
    "        to cell a func use the func name followed by parenthesis\n",
    "        eg: my_func()\n",
    "    eg:\n",
    "        def my_func():\n",
    "            print(\"hi\")\n",
    "        my_func() => hi\n",
    "Argument in func:\n",
    "    Argument are specified after the func name within the parenthesis\n",
    "    eg:\n",
    "        def my_func(fname):\n",
    "            print(fname + 'hello')\n",
    "        my_func('lmao') => lmao hello \n",
    "No of Argument in func:\n",
    "    in default a func must be called with the correct of arg ie if your func expects 2 agrs you have to call the func\n",
    "    with 2 args, not none or less\n",
    "Default Argument:\n",
    "    Function Argument can have default values in python\n",
    "    we can provide a default value to an argument by using the assignment operator (=)\n",
    "    example:\n",
    "        def my_func(name , msg='good Morning'):\n",
    "            print('hello' + name + msg)\n",
    "        my_func('kate') => hello kate good Morning\n",
    "        my_func('kate' ,'how are you?') => hello kate how are you?\n",
    "Arbitary Argument:\n",
    "    If you do not know how many arguments that will be passed into your func add a * at before the parameter name \n",
    "    in the func definition\n",
    "    Arbitary Arguments are often shatered to *args in Python Docs\n",
    "    The way the func will recive a tuple of args and can access the items accordingly\n",
    "    example:\n",
    "        def ft(*ft):\n",
    "            for ft in frames:\n",
    "                print(ft)\n",
    "        ft('orange' , 'apple' , 'banana')\n",
    "Keyword Arguments:\n",
    "    you can also send argument with the syntax\n",
    "        key = value\n",
    "    This way the order of arguments dont matter\n",
    "    shortned to kwargs in Python docs\n",
    "    example:\n",
    "        def my_func(child1 ,child2, child3):\n",
    "            print('the youngest child is' + child3)\n",
    "        my_func(child1='emli', child2='Tobias', child3='Linus')=>the youngest child is linus\n",
    "The Pass Statement:\n",
    "    function definitions cannot be empty but for some reason if you have function definition with no context put in the\n",
    "    pass statement to avoid getting an error\n",
    "    eg:\n",
    "    def my_func():\n",
    "            pass\n",
    "Recursion Func:\n",
    "eg:\n",
    "    def fact():\n",
    "        if x == 1:\n",
    "            return 1\n",
    "        else:\n",
    "            return (x*fact(x-1))\n",
    "    num=3\n",
    "    print('the fact of ' + num + ' is ' + fact(num)) =>  the fact of 3 is 6\n",
    "\n",
    "adv / dis inheritance\n",
    "Sub routine\n",
    "'''"
   ]
  },
  {
   "cell_type": "code",
   "execution_count": 14,
   "id": "ea7d0279",
   "metadata": {
    "scrolled": false
   },
   "outputs": [
    {
     "name": "stdout",
     "output_type": "stream",
     "text": [
      "enter first num : 1\n",
      "enter second num : 2\n",
      "add :  3\n",
      "sub :  -1\n",
      "multi :  2\n",
      "dev :  0.5\n",
      "after swap : a =  2 b =  1\n"
     ]
    }
   ],
   "source": [
    "a = int(input('enter first num : '))\n",
    "b = int(input('enter second num : '))\n",
    "print('add : ', a+b)\n",
    "print('sub : ', a-b)\n",
    "print('multi : ', a*b)\n",
    "print('dev : ', a/b)\n",
    "temp = a\n",
    "a = b\n",
    "b = temp\n",
    "print('after swap : a = ', a , \"b = \",b)"
   ]
  },
  {
   "cell_type": "code",
   "execution_count": 16,
   "id": "54a765f1",
   "metadata": {
    "scrolled": true
   },
   "outputs": [
    {
     "name": "stdout",
     "output_type": "stream",
     "text": [
      "enter num: 5\n",
      "ans :  120\n"
     ]
    }
   ],
   "source": [
    "n = int(input('enter num: '))\n",
    "ans = 1\n",
    "for i in range (1 , n+1):\n",
    "    ans *= i\n",
    "print('ans : ' , ans)"
   ]
  },
  {
   "cell_type": "code",
   "execution_count": 6,
   "id": "83974e87",
   "metadata": {
    "scrolled": true
   },
   "outputs": [
    {
     "name": "stdout",
     "output_type": "stream",
     "text": [
      "10 20\n",
      "pull\n"
     ]
    }
   ],
   "source": [
    "#classes and Objects \n",
    "class test: \n",
    "    def push(self):\n",
    "        print('push')\n",
    "    def pull(self):\n",
    "        print('pull')\n",
    "obj = test()\n",
    "obj.x = 10\n",
    "obj.y = 20\n",
    "print(obj.x,obj.y) \n",
    "obj.pull()"
   ]
  },
  {
   "cell_type": "code",
   "execution_count": 2,
   "id": "a27fb8c5",
   "metadata": {},
   "outputs": [
    {
     "name": "stdout",
     "output_type": "stream",
     "text": [
      "10 30\n",
      "pull obj\n",
      "Destructor called for obj\n"
     ]
    }
   ],
   "source": [
    "#const , dest\n",
    "class test:\n",
    "    def __init__(self , name, x , y):\n",
    "        self.name = name\n",
    "        self.x = x\n",
    "        self.y = y\n",
    "        self.__anyfuckingname = 67 \n",
    "    def push(self):\n",
    "        print(f'push {self.name}')\n",
    "    def pull(self):\n",
    "        print(f'pull {self.name}')\n",
    "    def __del__(self):\n",
    "        print(f'Destructor called for {self.name}')\n",
    "obj = test(\"obj\" , 10 , 30)\n",
    "print(obj.x,obj.y)\n",
    "obj.pull()\n",
    "del obj"
   ]
  },
  {
   "cell_type": "code",
   "execution_count": 33,
   "id": "2b1f4257",
   "metadata": {},
   "outputs": [
    {
     "name": "stdout",
     "output_type": "stream",
     "text": [
      "push child\n",
      "i am child\n",
      "Destructor called for child\n"
     ]
    }
   ],
   "source": [
    "#inheritance \n",
    "class parent: \n",
    "    def __init__(self , name, x , y):\n",
    "        self.name = name\n",
    "        self.x = x\n",
    "        self.y = y        \n",
    "    def push(self):\n",
    "        print(f'push {self.name}')\n",
    "    def pull(self):\n",
    "        print(f'pull {self.name}')\n",
    "    def __del__(self):\n",
    "        print(f'Destructor called for {self.name}')\n",
    "class child(parent): \n",
    "    def who(self):\n",
    "        print(f\"i am {self.name}\")\n",
    "c = child('child' , 10 , 100)\n",
    "c.push()\n",
    "c.who()\n",
    "del c\n"
   ]
  },
  {
   "cell_type": "code",
   "execution_count": 6,
   "id": "bb734cb1",
   "metadata": {},
   "outputs": [
    {
     "name": "stdout",
     "output_type": "stream",
     "text": [
      "Destructor called for error child\n",
      "push error child\n"
     ]
    },
    {
     "ename": "AttributeError",
     "evalue": "'parent' object has no attribute 'who'",
     "output_type": "error",
     "traceback": [
      "\u001b[1;31m---------------------------------------------------------------------------\u001b[0m",
      "\u001b[1;31mAttributeError\u001b[0m                            Traceback (most recent call last)",
      "\u001b[1;32mC:\\Users\\DHANAN~1\\AppData\\Local\\Temp/ipykernel_5428/1921714248.py\u001b[0m in \u001b[0;36m<module>\u001b[1;34m\u001b[0m\n\u001b[0;32m     16\u001b[0m \u001b[0mc\u001b[0m \u001b[1;33m=\u001b[0m \u001b[0mparent\u001b[0m\u001b[1;33m(\u001b[0m\u001b[1;34m'error child'\u001b[0m \u001b[1;33m,\u001b[0m \u001b[1;36m10\u001b[0m \u001b[1;33m,\u001b[0m \u001b[1;36m100\u001b[0m\u001b[1;33m)\u001b[0m\u001b[1;33m\u001b[0m\u001b[1;33m\u001b[0m\u001b[0m\n\u001b[0;32m     17\u001b[0m \u001b[0mc\u001b[0m\u001b[1;33m.\u001b[0m\u001b[0mpush\u001b[0m\u001b[1;33m(\u001b[0m\u001b[1;33m)\u001b[0m\u001b[1;33m\u001b[0m\u001b[1;33m\u001b[0m\u001b[0m\n\u001b[1;32m---> 18\u001b[1;33m \u001b[0mc\u001b[0m\u001b[1;33m.\u001b[0m\u001b[0mwho\u001b[0m\u001b[1;33m(\u001b[0m\u001b[1;33m)\u001b[0m\u001b[1;33m\u001b[0m\u001b[1;33m\u001b[0m\u001b[0m\n\u001b[0m\u001b[0;32m     19\u001b[0m \u001b[1;32mdel\u001b[0m \u001b[0mc\u001b[0m\u001b[1;33m\u001b[0m\u001b[1;33m\u001b[0m\u001b[0m\n",
      "\u001b[1;31mAttributeError\u001b[0m: 'parent' object has no attribute 'who'"
     ]
    }
   ],
   "source": [
    "#inheritance \n",
    "class parent: \n",
    "    def __init__(self , name, x , y):\n",
    "        self.name = name\n",
    "        self.x = x\n",
    "        self.y = y        \n",
    "    def push(self):\n",
    "        print(f'push {self.name}')\n",
    "    def pull(self):\n",
    "        print(f'pull {self.name}')\n",
    "    def __del__(self):\n",
    "        print(f'Destructor called for {self.name}')\n",
    "class child(parent): \n",
    "    def who(self):\n",
    "        print(f\"i am {self.name}\")\n",
    "c = parent('error child' , 10 , 100)\n",
    "c.push()\n",
    "c.who()\n",
    "del c\n"
   ]
  },
  {
   "cell_type": "code",
   "execution_count": 2,
   "id": "9a507911",
   "metadata": {},
   "outputs": [
    {
     "name": "stdout",
     "output_type": "stream",
     "text": [
      "i am error child who just got overloaded\n",
      "Destructor called for error child\n"
     ]
    }
   ],
   "source": [
    "#Polymorphism\n",
    "class parent: \n",
    "    def __init__(self , name, x , y):\n",
    "        self.name = name\n",
    "        self.x = x\n",
    "        self.y = y        \n",
    "    def push(self):\n",
    "        print(f'push {self.name}')\n",
    "    def pull(self):\n",
    "        print(f'pull {self.name}')\n",
    "    def __del__(self):\n",
    "        print(f'Destructor called for {self.name}')\n",
    "class child(parent): \n",
    "    def push(self):\n",
    "        print(f\"i am {self.name} who just got overloaded\")\n",
    "c = child('error child' , 10 , 100)\n",
    "c.push()\n",
    "del c"
   ]
  },
  {
   "cell_type": "code",
   "execution_count": null,
   "id": "9f09311a",
   "metadata": {},
   "outputs": [],
   "source": [
    "def NoCube(x):\n",
    "    return x * x * x\n",
    "a = int(input('enter num : '))\n",
    "print( NoCube(a))"
   ]
  },
  {
   "cell_type": "code",
   "execution_count": null,
   "id": "72b7c16e",
   "metadata": {},
   "outputs": [],
   "source": [
    "def sayHi(fname , lname):\n",
    "    print(f'your name is {fname} {lname}. hi')\n",
    "a = input('enter fname : ')\n",
    "b = input('enter lname : ')\n",
    "sayHi(a , b)"
   ]
  },
  {
   "cell_type": "code",
   "execution_count": null,
   "id": "94315126",
   "metadata": {},
   "outputs": [],
   "source": [
    "names = []\n",
    "for i in range(1, 11):\n",
    "        name = input(f\"enter name of {i} :\")\n",
    "        names.append(name)\n",
    "for x in names:\n",
    "    print(f\"Good Moring Mr. {x}\")"
   ]
  },
  {
   "cell_type": "code",
   "execution_count": 4,
   "id": "91cd231d",
   "metadata": {},
   "outputs": [
    {
     "name": "stdout",
     "output_type": "stream",
     "text": [
      "enter num5\n",
      "120\n"
     ]
    }
   ],
   "source": [
    "def fact(num):\n",
    "    if(num == 0):\n",
    "        return 1\n",
    "    else:\n",
    "        return (num * fact(num - 1))\n",
    "num = int(input(\"enter num\"))\n",
    "a = fact(num)\n",
    "print(a)"
   ]
  },
  {
   "cell_type": "code",
   "execution_count": 26,
   "id": "ce7add61",
   "metadata": {},
   "outputs": [
    {
     "name": "stdout",
     "output_type": "stream",
     "text": [
      "[1 2 3]\n",
      "[(1, 2, 3) (4, 5)]\n"
     ]
    }
   ],
   "source": [
    "'''\n",
    "NumPy : numerical python\n",
    "    NumPy is the fundamental package for scientific computation in python it contains among other things:\n",
    "        i) a powerful ine dimentional array object (Mathematical and logical)\n",
    "        ii) Sophisticated (broadcasting) functions\n",
    "        iii) Tools for integrating c / c++ and fortan code\n",
    "        iv) useful linear algebra Fourier transformation and random number capabilities\n",
    "    NumPy can also be used as an efficient multi dimentional container if generic data arbitry data types can be defined\n",
    "    NumPy is often usesd with packages like SciPi and mat-plot lib\n",
    "    example:\n",
    "    1)\n",
    "        import numpy as np\n",
    "        a = np.array([1, 2, 3])\n",
    "        b = np.array([[1, 2] , [3, 4]])\n",
    "        print(a)\n",
    "        # output : [1 , 2 , 3]\n",
    "        print(b)\n",
    "        # output : [[1 , 2] , [3 ,4 ]]\n",
    "    2)\n",
    "        import numpy as np\n",
    "        x = np.zeros(5)\n",
    "        print(x)\n",
    "        #output [0. 0. 0. 0. 0.]\n",
    "        y = np.zeros((5) , dtype = np.int64)\n",
    "        print(y)\n",
    "        #output [0 0 0 0 0]\n",
    "    3)\n",
    "        import numpy as np\n",
    "        x = np.ones(5)\n",
    "        print(x)\n",
    "        #output [1. 1. 1. 1. 1.]\n",
    "        y = np.ones((5) , dtype = np.int64)\n",
    "        print(y)\n",
    "        #output [1 1 1 1 1]\n",
    "    4)\n",
    "        import numpy as np\n",
    "        x = [1, 2, 3]\n",
    "        a = np.asarray(x)\n",
    "        print(a)\n",
    "        #output [1 2 3]\n",
    "        y = [(1,2,3) , (4,5)]\n",
    "        b = np.asarray((y) , dtype = object)\n",
    "        print(b)\n",
    "        #output [(1, 2, 3) (4, 5)]\n",
    "'''\n",
    "import numpy as np\n",
    "x = [1, 2, 3]\n",
    "a = np.asarray(x)         \n",
    "print(a)\n",
    "#output [1 2 3]\n",
    "y = [(1,2,3) , (4,5)]\n",
    "b = np.asarray((y) , dtype = object)\n",
    "print(b)\n",
    "#output [(1, 2, 3) (4, 5)]"
   ]
  },
  {
   "cell_type": "code",
   "execution_count": 11,
   "id": "2a6e5bbc",
   "metadata": {},
   "outputs": [
    {
     "name": "stdout",
     "output_type": "stream",
     "text": [
      "calling a private member\n"
     ]
    },
    {
     "ename": "AttributeError",
     "evalue": "'Derived' object has no attribute '_Derived__c'",
     "output_type": "error",
     "traceback": [
      "\u001b[1;31m---------------------------------------------------------------------------\u001b[0m",
      "\u001b[1;31mAttributeError\u001b[0m                            Traceback (most recent call last)",
      "\u001b[1;32mC:\\Users\\DHANAN~1\\AppData\\Local\\Temp/ipykernel_3544/2754371400.py\u001b[0m in \u001b[0;36m<module>\u001b[1;34m\u001b[0m\n\u001b[0;32m      9\u001b[0m         \u001b[0mprint\u001b[0m\u001b[1;33m(\u001b[0m\u001b[1;34m'calling a private member'\u001b[0m\u001b[1;33m)\u001b[0m\u001b[1;33m\u001b[0m\u001b[1;33m\u001b[0m\u001b[0m\n\u001b[0;32m     10\u001b[0m         \u001b[0mprint\u001b[0m\u001b[1;33m(\u001b[0m\u001b[0mself\u001b[0m\u001b[1;33m.\u001b[0m\u001b[0m__c\u001b[0m\u001b[1;33m)\u001b[0m\u001b[1;33m\u001b[0m\u001b[1;33m\u001b[0m\u001b[0m\n\u001b[1;32m---> 11\u001b[1;33m \u001b[0mobj\u001b[0m \u001b[1;33m=\u001b[0m \u001b[0mDerived\u001b[0m\u001b[1;33m(\u001b[0m\u001b[1;33m)\u001b[0m\u001b[1;33m\u001b[0m\u001b[1;33m\u001b[0m\u001b[0m\n\u001b[0m",
      "\u001b[1;32mC:\\Users\\DHANAN~1\\AppData\\Local\\Temp/ipykernel_3544/2754371400.py\u001b[0m in \u001b[0;36m__init__\u001b[1;34m(self)\u001b[0m\n\u001b[0;32m      8\u001b[0m         \u001b[0mBase\u001b[0m\u001b[1;33m.\u001b[0m\u001b[0m__init__\u001b[0m\u001b[1;33m(\u001b[0m\u001b[0mself\u001b[0m\u001b[1;33m)\u001b[0m\u001b[1;33m\u001b[0m\u001b[1;33m\u001b[0m\u001b[0m\n\u001b[0;32m      9\u001b[0m         \u001b[0mprint\u001b[0m\u001b[1;33m(\u001b[0m\u001b[1;34m'calling a private member'\u001b[0m\u001b[1;33m)\u001b[0m\u001b[1;33m\u001b[0m\u001b[1;33m\u001b[0m\u001b[0m\n\u001b[1;32m---> 10\u001b[1;33m         \u001b[0mprint\u001b[0m\u001b[1;33m(\u001b[0m\u001b[0mself\u001b[0m\u001b[1;33m.\u001b[0m\u001b[0m__c\u001b[0m\u001b[1;33m)\u001b[0m\u001b[1;33m\u001b[0m\u001b[1;33m\u001b[0m\u001b[0m\n\u001b[0m\u001b[0;32m     11\u001b[0m \u001b[0mobj\u001b[0m \u001b[1;33m=\u001b[0m \u001b[0mDerived\u001b[0m\u001b[1;33m(\u001b[0m\u001b[1;33m)\u001b[0m\u001b[1;33m\u001b[0m\u001b[1;33m\u001b[0m\u001b[0m\n",
      "\u001b[1;31mAttributeError\u001b[0m: 'Derived' object has no attribute '_Derived__c'"
     ]
    }
   ],
   "source": [
    "#encapsulation\n",
    "class Base:\n",
    "    def __init__(self):\n",
    "        self.a = 'public test'\n",
    "        self.__c='private test'\n",
    "class Derived(Base):\n",
    "    def __init__(self):\n",
    "        Base.__init__(self)\n",
    "        print('calling a private member')\n",
    "        print(self.__c)\n",
    "obj = Derived()\n"
   ]
  },
  {
   "cell_type": "code",
   "execution_count": 22,
   "id": "771d3386",
   "metadata": {},
   "outputs": [
    {
     "name": "stdout",
     "output_type": "stream",
     "text": [
      "push childMulti\n",
      "2\n",
      "Destructor called for childMulti\n",
      "I am in firstChild\n",
      "I am in SecondChild\n"
     ]
    }
   ],
   "source": [
    "#inheritance \n",
    "class parent: \n",
    "    def __init__(self , name, x , y):\n",
    "        self.name = name\n",
    "        self.x = x\n",
    "        self.y = y        \n",
    "    def push(self):\n",
    "        print(f'push {self.name}')\n",
    "    def pull(self):\n",
    "        print(f'pull {self.name}')\n",
    "    def __del__(self):\n",
    "        print(f'Destructor called for {self.name}')\n",
    "class SecondParent:\n",
    "        def getVal(self):\n",
    "            self.value = int(input('enter val: '))\n",
    "        def doThis(self):\n",
    "            print(f'the value is {self.value}')\n",
    "#Multilple Inheritance\n",
    "class childMulti(parent , SecondParent): \n",
    "    def who(self):\n",
    "        print(f\"i am {self.name}\")\n",
    "#Multilevel Inheritance \n",
    "class childLvl1(parent):\n",
    "    def levOne(self):\n",
    "        print('1')\n",
    "class childLvl2(childLvl1):\n",
    "    def levTwo(self):\n",
    "        print('2')\n",
    "#Hierarchical Inheritance\n",
    "class FirstChild(parent):\n",
    "    def func1(self):\n",
    "        print(\"I am in firstChild\")\n",
    "class SecondChild(parent):\n",
    "    def func2(self):\n",
    "        print(\"I am in SecondChild\")\n",
    "        \n",
    "c = childLvl2('childMulti' , 10 , 100)\n",
    "c.push()\n",
    "c.levTwo()\n",
    "del c\n",
    "a = FirstChild('Fchild' , 10 , 100)\n",
    "b = SecondChild('Schild' , 13 , 102)\n",
    "a.func1()\n",
    "b.func2()"
   ]
  },
  {
   "cell_type": "code",
   "execution_count": 23,
   "id": "4afa0ad2",
   "metadata": {},
   "outputs": [
    {
     "name": "stdout",
     "output_type": "stream",
     "text": [
      "9\n"
     ]
    }
   ],
   "source": [
    "#operator Overloading\n",
    "class Base:\n",
    "    def __init__(self, a):\n",
    "        self.a = a\n",
    "    def __add__(self, o):\n",
    "        return self.a + o.a\n",
    "obj = Base(4)\n",
    "obj1 = Base(5)\n",
    "print(obj + obj1)"
   ]
  },
  {
   "cell_type": "code",
   "execution_count": 25,
   "id": "5aa8df36",
   "metadata": {},
   "outputs": [
    {
     "name": "stdout",
     "output_type": "stream",
     "text": [
      "i am error child who just got overloaded\n",
      "Destructor called for error child\n"
     ]
    }
   ],
   "source": [
    "#Polymorphism\n",
    "class parent: \n",
    "    def __init__(self , name, x , y):\n",
    "        self.name = name\n",
    "        self.x = x\n",
    "        self.y = y        \n",
    "    def push(self):\n",
    "        print(f'push {self.name}')\n",
    "    def pull(self):\n",
    "        print(f'pull {self.name}')\n",
    "    def __del__(self):\n",
    "        print(f'Destructor called for {self.name}')\n",
    "class child(parent): \n",
    "    def push(self):\n",
    "        print(f\"i am {self.name} who just got overloaded\")\n",
    "c = child('error child' , 10 , 100)\n",
    "c.push()\n",
    "del c"
   ]
  },
  {
   "cell_type": "code",
   "execution_count": 36,
   "id": "240e29a6",
   "metadata": {},
   "outputs": [
    {
     "name": "stdout",
     "output_type": "stream",
     "text": [
      "this is public:1 this is private: 2\n"
     ]
    },
    {
     "ename": "AttributeError",
     "evalue": "'testChild' object has no attribute '_testChild__b'",
     "output_type": "error",
     "traceback": [
      "\u001b[1;31m---------------------------------------------------------------------------\u001b[0m",
      "\u001b[1;31mAttributeError\u001b[0m                            Traceback (most recent call last)",
      "\u001b[1;32mC:\\Users\\DHANAN~1\\AppData\\Local\\Temp/ipykernel_3544/2716169864.py\u001b[0m in \u001b[0;36m<module>\u001b[1;34m\u001b[0m\n\u001b[0;32m     12\u001b[0m \u001b[1;33m\u001b[0m\u001b[0m\n\u001b[0;32m     13\u001b[0m \u001b[0mobj1\u001b[0m\u001b[1;33m.\u001b[0m\u001b[0mprintVal\u001b[0m\u001b[1;33m(\u001b[0m\u001b[1;33m)\u001b[0m\u001b[1;33m\u001b[0m\u001b[1;33m\u001b[0m\u001b[0m\n\u001b[1;32m---> 14\u001b[1;33m \u001b[0mobj2\u001b[0m\u001b[1;33m.\u001b[0m\u001b[0mprintValDerived\u001b[0m\u001b[1;33m(\u001b[0m\u001b[1;33m)\u001b[0m\u001b[1;33m\u001b[0m\u001b[1;33m\u001b[0m\u001b[0m\n\u001b[0m",
      "\u001b[1;32mC:\\Users\\DHANAN~1\\AppData\\Local\\Temp/ipykernel_3544/2716169864.py\u001b[0m in \u001b[0;36mprintValDerived\u001b[1;34m(self)\u001b[0m\n\u001b[0;32m      7\u001b[0m \u001b[1;32mclass\u001b[0m \u001b[0mtestChild\u001b[0m\u001b[1;33m(\u001b[0m\u001b[0mtest\u001b[0m\u001b[1;33m)\u001b[0m\u001b[1;33m:\u001b[0m\u001b[1;33m\u001b[0m\u001b[1;33m\u001b[0m\u001b[0m\n\u001b[0;32m      8\u001b[0m     \u001b[1;32mdef\u001b[0m \u001b[0mprintValDerived\u001b[0m\u001b[1;33m(\u001b[0m\u001b[0mself\u001b[0m\u001b[1;33m)\u001b[0m\u001b[1;33m:\u001b[0m\u001b[1;33m\u001b[0m\u001b[1;33m\u001b[0m\u001b[0m\n\u001b[1;32m----> 9\u001b[1;33m         \u001b[0mprint\u001b[0m\u001b[1;33m(\u001b[0m\u001b[1;34mf'this is public:{self.a} this is private: {self.__b}'\u001b[0m\u001b[1;33m)\u001b[0m\u001b[1;33m\u001b[0m\u001b[1;33m\u001b[0m\u001b[0m\n\u001b[0m\u001b[0;32m     10\u001b[0m \u001b[0mobj1\u001b[0m \u001b[1;33m=\u001b[0m \u001b[0mtest\u001b[0m\u001b[1;33m(\u001b[0m\u001b[1;36m1\u001b[0m \u001b[1;33m,\u001b[0m \u001b[1;36m2\u001b[0m\u001b[1;33m)\u001b[0m\u001b[1;33m\u001b[0m\u001b[1;33m\u001b[0m\u001b[0m\n\u001b[0;32m     11\u001b[0m \u001b[0mobj2\u001b[0m \u001b[1;33m=\u001b[0m \u001b[0mtestChild\u001b[0m\u001b[1;33m(\u001b[0m\u001b[1;36m4\u001b[0m \u001b[1;33m,\u001b[0m \u001b[1;36m5\u001b[0m\u001b[1;33m)\u001b[0m\u001b[1;33m\u001b[0m\u001b[1;33m\u001b[0m\u001b[0m\n",
      "\u001b[1;31mAttributeError\u001b[0m: 'testChild' object has no attribute '_testChild__b'"
     ]
    }
   ],
   "source": [
    "class test:\n",
    "    def __init__(self , a, b):\n",
    "        self.a = a\n",
    "        self.__b = b\n",
    "    def printVal(self):\n",
    "        print(f'this is public:{self.a} this is private: {self.__b}')\n",
    "class testChild(test):\n",
    "    def printValDerived(self):\n",
    "        print(f'this is public:{self.a} this is private: {self.__b}') \n",
    "obj1 = test(1 , 2)\n",
    "obj2 = testChild(4 , 5)\n",
    "\n",
    "obj1.printVal()\n",
    "obj2.printValDerived()"
   ]
  },
  {
   "cell_type": "code",
   "execution_count": null,
   "id": "13fbd0f3",
   "metadata": {},
   "outputs": [],
   "source": [
    "'''\n",
    "ALGOL(Algorithmic Language):\n",
    "it is a family of imperitive computer proggraming languages originally developed in the mid 1950 which greatly influenced\n",
    "many other languages and was the standard method for algo description used by the ACM in textbooks and other academic sources \n",
    "for more than 30 years \n",
    "-> It follows procedural, impreative, structured paradigm\n",
    "-> ALGOL introduced code blocks and the begin ---- end pairs for delimiting\n",
    "-> it was also the first language to implement nested functions definition\n",
    "    major specs : ALGOL58, ALGOL60, ALGOL68\n",
    "ELM: it is a domain-specific proggraming language for declartively creating web browser based graphical user interface with \n",
    "emphasis on usability and performance & inbustness\n",
    "-> it is a delightful language for reliable web apps\n",
    "-> ELM is a functional language that compiles to Js\n",
    "-> it helps to develop websites and web apps\n",
    "-> it has a strong ephasis on simplicity and quality tooling\n",
    "JS: it is a iterpreted proggraming language that is high level often just in time compiled and multi paradigm\n",
    "-> it has:\n",
    "@ curly bracket syntax\n",
    "@ dynamic typing\n",
    "@ prototype based object orientation\n",
    "@ first class functions\n",
    "Paradigm followed by js are event driven, functional, imperative\n",
    "->Alongside HTML, CSS, Js is one of the core technologies of the world wide web\n",
    "->it enables interactive web pages and it is a essential part of web apps\n",
    "Imperative Programming Paradigm:\n",
    "In Computer science, it is a programming paradigm that uses statements to change a proggrams state it consists of commands for\n",
    "the computer to perform it focus on how\n",
    "a) Program State\n",
    "b) Instructions to change the program state\n",
    "                    -> YES -> DO {.....} \n",
    "    DO  -> IS TRUE                        -> STOP\n",
    "                    -> NO -> DO {....}\n",
    "\n",
    "'''"
   ]
  },
  {
   "cell_type": "code",
   "execution_count": 1,
   "id": "8bed8c9b",
   "metadata": {},
   "outputs": [
    {
     "name": "stdout",
     "output_type": "stream",
     "text": [
      "1\n",
      "destructor called for class\n"
     ]
    }
   ],
   "source": [
    "class test:\n",
    "    def __init__(self , a):\n",
    "        self.a = a\n",
    "    def printVal(self):\n",
    "        print(self.a)\n",
    "    def __del__(self):\n",
    "        print('destructor called for class')\n",
    "obj = test(1)\n",
    "obj.printVal()\n",
    "del obj"
   ]
  },
  {
   "cell_type": "code",
   "execution_count": 5,
   "id": "8d4777fb",
   "metadata": {},
   "outputs": [
    {
     "name": "stdout",
     "output_type": "stream",
     "text": [
      "10\n",
      "destructor called for class\n"
     ]
    }
   ],
   "source": [
    "class test:\n",
    "    def __init__(self):\n",
    "        self.a = 10\n",
    "    def printVal(self):\n",
    "        print(self.a)\n",
    "    def __del__(self):\n",
    "        print('destructor called for class')\n",
    "obj = test()\n",
    "obj.printVal()\n",
    "del obj"
   ]
  },
  {
   "cell_type": "code",
   "execution_count": 2,
   "id": "fe56eecd",
   "metadata": {},
   "outputs": [
    {
     "name": "stdout",
     "output_type": "stream",
     "text": [
      "i am error child who just got overloaded\n",
      "Destructor called for error child\n"
     ]
    }
   ],
   "source": [
    "#Polymorphism\n",
    "class parent: \n",
    "    def __init__(self , name, x , y):\n",
    "        self.name = name\n",
    "        self.x = x\n",
    "        self.y = y        \n",
    "    def push(self):\n",
    "        print(f'push {self.name}')\n",
    "    def pull(self):\n",
    "        print(f'pull {self.name}')\n",
    "    def __del__(self):\n",
    "        print(f'Destructor called for {self.name}')\n",
    "class child(parent): \n",
    "    def push(self):\n",
    "        print(f\"i am {self.name} who just got overloaded\")\n",
    "c = child('error child' , 10 , 100)\n",
    "c.push()\n",
    "del c"
   ]
  },
  {
   "cell_type": "code",
   "execution_count": 3,
   "id": "d6fcf867",
   "metadata": {},
   "outputs": [
    {
     "name": "stdout",
     "output_type": "stream",
     "text": [
      "9\n"
     ]
    }
   ],
   "source": [
    "class Base:\n",
    "    def __init__(self, a):\n",
    "        self.a = a\n",
    "    def __add__(self, o):\n",
    "        return self.a + o.a\n",
    "obj = Base(4)\n",
    "obj1 = Base(5)\n",
    "print(obj + obj1)"
   ]
  },
  {
   "cell_type": "code",
   "execution_count": 11,
   "id": "7be65bd4",
   "metadata": {},
   "outputs": [
    {
     "name": "stdout",
     "output_type": "stream",
     "text": [
      "8\n",
      "ab\n",
      "4\n"
     ]
    }
   ],
   "source": [
    "def prod(a , b):\n",
    "    print(a * b)\n",
    "def prod(a , b, c):\n",
    "    print(a * b * c)\n",
    "def test(dataType , a , b):\n",
    "    if(dataType == 'int'):\n",
    "        return a * b\n",
    "    if(dataType == 'str'):\n",
    "        return a + b\n",
    "prod(2 , 2 , 2)\n",
    "print(test('str' , 'a' , 'b'))\n",
    "print(test('int' , 4 , 1))"
   ]
  },
  {
   "cell_type": "code",
   "execution_count": 5,
   "id": "2dc204cf",
   "metadata": {},
   "outputs": [
    {
     "name": "stdout",
     "output_type": "stream",
     "text": [
      "Hello\n"
     ]
    }
   ],
   "source": [
    "def greet(text):\n",
    "    return text\n",
    "say = greet\n",
    "  \n",
    "print (say('Hello'))"
   ]
  },
  {
   "cell_type": "code",
   "execution_count": 7,
   "id": "0df7d80d",
   "metadata": {},
   "outputs": [
    {
     "name": "stdout",
     "output_type": "stream",
     "text": [
      "4\n",
      "8\n"
     ]
    }
   ],
   "source": [
    "def hcf(a, b):\n",
    "        smaller = min(a ,b)\n",
    "        for i in range(1 , smaller + 1):\n",
    "            if((a % i == 0) and (b % i == 0)):\n",
    "                hcf = i\n",
    "        return hcf\n",
    "def lcm(a, b):\n",
    "        greater = max(a ,b)\n",
    "        while(True):\n",
    "            if((greater % a == 0) and (greater % b == 0)):\n",
    "                lcm = greater\n",
    "                break\n",
    "            greater += 1\n",
    "        return lcm\n",
    "print(hcf(8 , 4))\n",
    "print(lcm(8 , 4))"
   ]
  },
  {
   "cell_type": "code",
   "execution_count": 17,
   "id": "779b5e46",
   "metadata": {},
   "outputs": [
    {
     "name": "stdout",
     "output_type": "stream",
     "text": [
      "True\n",
      "{('james',)}\n",
      "X    \n",
      "-----\n",
      "james\n"
     ]
    }
   ],
   "source": [
    "#logical paradigm\n",
    "from pyDatalog import pyDatalog\n",
    "\n",
    "pyDatalog.create_atoms('parent,male,female,son,daughter,X,Y,Z')\n",
    "\n",
    "#facts\n",
    "+male('adam')\n",
    "+female('anne')\n",
    "+female('barney')\n",
    "+male('james')\n",
    "+parent('barney','adam')\n",
    "+parent('james','anne')\n",
    "\n",
    "#rules / clauses\n",
    "son(X,Y) <= male(X) and parent(Y,X)\n",
    "daughter(X,Y) <= parent(Y,X) and female(X)\n",
    "\n",
    "#queries\n",
    "print(pyDatalog.ask('son(adam,Y)'))\n",
    "print(pyDatalog.ask('daughter(anne,Y)'))\n",
    "print(daughter('anne' , X))"
   ]
  },
  {
   "cell_type": "code",
   "execution_count": 20,
   "id": "c1fd6796",
   "metadata": {},
   "outputs": [
    {
     "name": "stdout",
     "output_type": "stream",
     "text": [
      "N  \n",
      "---\n",
      "120\n"
     ]
    }
   ],
   "source": [
    "pyDatalog.create_atoms('factorial,N')\n",
    "factorial[N] = N * factorial[N-1]\n",
    "factorial[1] = 1;\n",
    "print(factorial[5] == N)"
   ]
  },
  {
   "cell_type": "code",
   "execution_count": 39,
   "id": "fedb52f7",
   "metadata": {},
   "outputs": [
    {
     "name": "stdout",
     "output_type": "stream",
     "text": [
      "X    \n",
      "-----\n",
      "danny\n",
      "lucy \n"
     ]
    }
   ],
   "source": [
    "pyDatalog.create_atoms('X,Y,Z,Professor,Lecturer,dean')\n",
    "\n",
    "+Professor('lucy')\n",
    "+Professor('danny')\n",
    "-Lecturer('james')\n",
    "\n",
    "dean(X) <= Professor(X)\n",
    "print(dean(X))"
   ]
  },
  {
   "cell_type": "code",
   "execution_count": 40,
   "id": "0caad0fd",
   "metadata": {},
   "outputs": [
    {
     "name": "stdout",
     "output_type": "stream",
     "text": [
      "Socket Created\n"
     ]
    }
   ],
   "source": [
    "#network paradigm\n",
    "import socket\n",
    "\n",
    "#sock_obj = socket.socket(socket_family,socket_type,protocol = 0)\n",
    "\n",
    "s = socket.socket(socket.AF_INET, socket.SOCK_STREAM)\n",
    "\n",
    "print(\"Socket Created\")"
   ]
  },
  {
   "cell_type": "code",
   "execution_count": null,
   "id": "57c43214",
   "metadata": {},
   "outputs": [],
   "source": [
    "#TCP Server\n",
    "import socket\n",
    "\n",
    "s = socket.socket()\n",
    "host = socket.gethostname()\n",
    "port = 9999\n",
    "\n",
    "s.bind((host, port))\n",
    "\n",
    "s.listen(5)\n",
    "\n",
    "while True:\n",
    "    conn,addr = s.accept()\n",
    "    print('got conn from ', addr)\n",
    "    conn.send(\"server: hi bruda\")\n",
    "    conn.close()"
   ]
  },
  {
   "cell_type": "code",
   "execution_count": null,
   "id": "e2f39bb2",
   "metadata": {},
   "outputs": [],
   "source": [
    "#TCP client\n",
    "import socket\n",
    "\n",
    "s = socket.socket()\n",
    "host = socket.gethostname()\n",
    "port = 9999\n",
    "\n",
    "s.connect((host, port))\n",
    "\n",
    "print(s.recv(1024))\n",
    "\n",
    "s.close()"
   ]
  },
  {
   "cell_type": "code",
   "execution_count": null,
   "id": "ecfdcde9",
   "metadata": {},
   "outputs": [],
   "source": []
  }
 ],
 "metadata": {
  "kernelspec": {
   "display_name": "Python 3 (ipykernel)",
   "language": "python",
   "name": "python3"
  },
  "language_info": {
   "codemirror_mode": {
    "name": "ipython",
    "version": 3
   },
   "file_extension": ".py",
   "mimetype": "text/x-python",
   "name": "python",
   "nbconvert_exporter": "python",
   "pygments_lexer": "ipython3",
   "version": "3.9.7"
  }
 },
 "nbformat": 4,
 "nbformat_minor": 5
}
